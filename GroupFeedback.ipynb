{
 "cells": [
  {
   "cell_type": "markdown",
   "metadata": {},
   "source": [
    "Group peer feedback:\n",
    "Medical Tourism:\n",
    "    Data: flight data and hospital info,\n",
    "        Six most recent flights out of slc and relevent healthcare costs for location.\n",
    "        Data from 3 different hospitals from locations.\n",
    "    Goal: provide tool for users to minimize out of pocket cost. Healthcare costs vary dpending on location.\n",
    "    Issues: data collection can be dirty, web scraping.\n",
    "    Analysis methodologies: Visualizes pricing variences and use analysis to make data visualization clear and succint.\n",
    "    Ethical considerations: If data or analysis is wrong can misrepresent actual costs and values. Not doctors to be able to decide whats best for patient."
   ]
  }
 ],
 "metadata": {
  "kernelspec": {
   "display_name": "Python 3",
   "language": "python",
   "name": "python3"
  },
  "language_info": {
   "codemirror_mode": {
    "name": "ipython",
    "version": 3
   },
   "file_extension": ".py",
   "mimetype": "text/x-python",
   "name": "python",
   "nbconvert_exporter": "python",
   "pygments_lexer": "ipython3",
   "version": "3.8.5"
  }
 },
 "nbformat": 4,
 "nbformat_minor": 4
}
