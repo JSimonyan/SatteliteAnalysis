{
 "cells": [
  {
   "cell_type": "code",
   "execution_count": 7,
   "metadata": {},
   "outputs": [
    {
     "ename": "ModuleNotFoundError",
     "evalue": "No module named 'ee'",
     "output_type": "error",
     "traceback": [
      "\u001b[1;31m---------------------------------------------------------------------------\u001b[0m",
      "\u001b[1;31mModuleNotFoundError\u001b[0m                       Traceback (most recent call last)",
      "\u001b[1;32m<ipython-input-7-1662a4a79f9c>\u001b[0m in \u001b[0;36m<module>\u001b[1;34m\u001b[0m\n\u001b[0;32m     16\u001b[0m \u001b[1;32mimport\u001b[0m \u001b[0mnumpy\u001b[0m \u001b[1;32mas\u001b[0m \u001b[0mnp\u001b[0m\u001b[1;33m\u001b[0m\u001b[1;33m\u001b[0m\u001b[0m\n\u001b[0;32m     17\u001b[0m \u001b[1;32mfrom\u001b[0m \u001b[0mmatplotlib\u001b[0m\u001b[1;33m.\u001b[0m\u001b[0mcolors\u001b[0m \u001b[1;32mimport\u001b[0m \u001b[0mListedColormap\u001b[0m\u001b[1;33m\u001b[0m\u001b[1;33m\u001b[0m\u001b[0m\n\u001b[1;32m---> 18\u001b[1;33m \u001b[1;32mimport\u001b[0m \u001b[0mee\u001b[0m\u001b[1;33m\u001b[0m\u001b[1;33m\u001b[0m\u001b[0m\n\u001b[0m\u001b[0;32m     19\u001b[0m \u001b[1;33m\u001b[0m\u001b[0m\n\u001b[0;32m     20\u001b[0m \u001b[1;31m# Initialize the Earth Engine module.\u001b[0m\u001b[1;33m\u001b[0m\u001b[1;33m\u001b[0m\u001b[1;33m\u001b[0m\u001b[0m\n",
      "\u001b[1;31mModuleNotFoundError\u001b[0m: No module named 'ee'"
     ]
    }
   ],
   "source": [
    "import requests\n",
    "import base64\n",
    "import io\n",
    "from PIL import Image\n",
    "import cv2\n",
    "\n",
    "from glob import glob\n",
    "\n",
    "# import earthpy as et\n",
    "# import earthpy.spatial as es\n",
    "# import earthpy.plot as ep\n",
    "\n",
    "# import rasterio as rio\n",
    "\n",
    "import matplotlib.pyplot as plt\n",
    "import numpy as np\n",
    "from matplotlib.colors import ListedColormap\n",
    "import ee\n",
    "\n",
    "# Initialize the Earth Engine module.\n",
    "ee.Initialize()\n",
    "\n",
    "# Print metadata for a DEM dataset.\n",
    "print(ee.Image('USGS/SRTMGL1_003').getInfo())\n",
    "\n",
    "# import plotly.graph_objects as go\n",
    "\n",
    "np.seterr(divide='ignore', invalid='ignore')\n",
    "\n",
    "url = \"https://api.nasa.gov/planetary/earth/imagery?lon=100.75&lat=1.5&date=2014-02-01&api_key=II3XUxmGYfFKmyapNeXjrH3Os3ILNhQScjW6bbMT\"\n",
    "response = requests.get(url)\n",
    "\n",
    "response\n",
    "\n",
    "# response.headers['content-type']\n",
    "# data = response.content\n",
    "\n",
    "# base64_img_bytes = data\n",
    "# # Take in base64 string and return cv image\n",
    "# # def stringToRGB(base64_string):\n",
    "# #     imgdata = base64.b64decode(str(base64_string))\n",
    "# #     image = Image.open(io.BytesIO(imgdata))\n",
    "# #     return cv2.cvtColor(np.array(image), cv2.COLOR_BGR2RGB)\n",
    "\n",
    "# # im = Image.open(url, base64.decodebytes(base64_img_bytes))\n",
    "\n",
    "# base64_string = base64_bytes.decode(ENCODING)"
   ]
  }
 ],
 "metadata": {
  "kernelspec": {
   "display_name": "Python 3",
   "language": "python",
   "name": "python3"
  },
  "language_info": {
   "codemirror_mode": {
    "name": "ipython",
    "version": 3
   },
   "file_extension": ".py",
   "mimetype": "text/x-python",
   "name": "python",
   "nbconvert_exporter": "python",
   "pygments_lexer": "ipython3",
   "version": "3.8.5"
  }
 },
 "nbformat": 4,
 "nbformat_minor": 4
}
