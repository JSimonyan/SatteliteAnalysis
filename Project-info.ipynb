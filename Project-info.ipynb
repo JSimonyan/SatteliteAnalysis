{
 "cells": [
  {
   "cell_type": "markdown",
   "metadata": {},
   "source": [
    "Sattelite Image analysis using python\n"
   ]
  },
  {
   "cell_type": "markdown",
   "metadata": {},
   "source": [
    "Aria Burk\n",
    "u1102905@utah.edu\n",
    "1102905\n",
    "\n",
    "Joseph Cochran \n",
    "u1193064@utah.edu\n",
    "1193064\n",
    "\n",
    "John Simonyan\n",
    "u0969548@utah.edu\n",
    "0969548"
   ]
  },
  {
   "cell_type": "markdown",
   "metadata": {},
   "source": [
    "Background and Motivation:\n",
    "\n",
    "Sattelite image anaylsis can have a plethora of pracitcal applicatons. Because sattelites can take pictures all over the surface of the planet they can capture formations and patterns in ways we can't see on the ground. In 2019 a group of researchers trained an ai to find geoglyphs, discovering new sets of Nazca lines (Becky Little,https://www.history.com/news/nazca-lines-peru-ai). This just shows one example of the potential of large scale sattelite image analysis. \n",
    "\n",
    "\n",
    "\n"
   ]
  },
  {
   "cell_type": "markdown",
   "metadata": {},
   "source": [
    "Project Objectives:\n",
    "    Explore the meta data collected (especially from the EPIC API) to find meaningful correlations between different labels and geographical coordinates.\n",
    "  Analyse specific images and develop an algorithm that determines whether images are similar enough to have the same subject or location.\n",
    "\n",
    "\n",
    "\n"
   ]
  },
  {
   "cell_type": "markdown",
   "metadata": {},
   "source": [
    "Data:\n",
    "    By querying this nasa api at https://api.nasa.gov/planetary/earth/imagery, we receive a base64 encoded png image that was taken by nasa. \n",
    "    Images have longitude, latitude, and the date the image was taken as datapoint attributes.\n",
    "Geo.json dataset containing latitude and longitude along with other attributes, city, country. Using these patameters we can more clearly classify the wueried data\n",
    "\n"
   ]
  },
  {
   "cell_type": "markdown",
   "metadata": {},
   "source": [
    "Ethical considerations:\n",
    "\n"
   ]
  },
  {
   "cell_type": "markdown",
   "metadata": {},
   "source": [
    "Data Processing:\n",
    "    Utilizing geo.json coordinates to load parameters for api queries. By using different location sets we can find significant locations to test. By normalizing the query data we can train a test model to recognize certain types of images based on different parameters. Parameters can be based on expected attributes of trained datasets.\n",
    "\n"
   ]
  },
  {
   "cell_type": "markdown",
   "metadata": {},
   "source": [
    "Exploratory Analysis:"
   ]
  },
  {
   "cell_type": "markdown",
   "metadata": {},
   "source": [
    "Analysis Methodology:\n",
    "\n"
   ]
  },
  {
   "cell_type": "markdown",
   "metadata": {},
   "source": [
    "Project Schedule:\n",
    "\n"
   ]
  }
 ],
 "metadata": {
  "kernelspec": {
   "display_name": "Python 3",
   "language": "python",
   "name": "python3"
  },
  "language_info": {
   "codemirror_mode": {
    "name": "ipython",
    "version": 3
   },
   "file_extension": ".py",
   "mimetype": "text/x-python",
   "name": "python",
   "nbconvert_exporter": "python",
   "pygments_lexer": "ipython3",
   "version": "3.8.5"
  }
 },
 "nbformat": 4,
 "nbformat_minor": 4
}
